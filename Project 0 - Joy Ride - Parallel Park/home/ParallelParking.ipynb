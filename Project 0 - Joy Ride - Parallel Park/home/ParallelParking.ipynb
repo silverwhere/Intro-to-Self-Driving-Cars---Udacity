{
 "cells": [
  {
   "cell_type": "markdown",
   "metadata": {},
   "source": [
    "# Joy Ride - Part 3: Parallel Parking\n",
    "In this section you will write a function that implements the correct sequence of steps required to parallel park a vehicle.\n",
    "\n",
    "NOTE: for this segment the vehicle's maximum speed has been set to just over 4 mph. This should make parking a little easier.\n",
    "\n",
    "![](https://upload.wikimedia.org/wikipedia/commons/2/26/ParallelParkingAnimation.gif)"
   ]
  },
  {
   "cell_type": "markdown",
   "metadata": {},
   "source": [
    "If you have never heard of WASD keys, please check out this [link](https://en.wikipedia.org/wiki/Arrow_keys#WASD_keys).\n",
    "\n",
    "## Instructions to get started\n",
    "\n",
    "1. Run the cell below this one by pressing `Ctrl + Enter`.\n",
    "1. Click the button that says \"Load Car Simulator\". The simulator will appear below the button.\n",
    "1. Run the cell below the simulator, marked `CODE CELL` (hit `Ctrl + Enter`). \n",
    "1. Try to drive the car using WASD keys. You might notice a problem...\n",
    "1. Press the **Reset** button in the simulator and then modify the code in the `CODE CELL` as per the instructions in TODO comments.\n",
    "1. When you think you've fixed the problem, run the code cell again. \n",
    "\n",
    "#### NOTE - Depending on your computer, it may take a few minutes for the simulator to load! Please be patient.\n"
   ]
  },
  {
   "cell_type": "code",
   "execution_count": 4,
   "metadata": {
    "scrolled": true
   },
   "outputs": [
    {
     "data": {
      "text/html": [
       "<link rel=\"stylesheet\" type=\"text/css\" href=\"buttonStyle.css\">\n",
       "<button id=\"launcher\">Load Car Simulator </button>\n",
       "<button id=\"restart\">Restart Connection</button>\n",
       "<script src=\"setupLauncher.js\"></script><div id=\"simulator_frame\"></sim>\n",
       "<script src=\"kernelRestart.js\"></script>"
      ],
      "text/plain": [
       "<IPython.core.display.HTML object>"
      ]
     },
     "metadata": {},
     "output_type": "display_data"
    }
   ],
   "source": [
    "%%HTML\n",
    "<link rel=\"stylesheet\" type=\"text/css\" href=\"buttonStyle.css\">\n",
    "<button id=\"launcher\">Load Car Simulator </button>\n",
    "<button id=\"restart\">Restart Connection</button>\n",
    "<script src=\"setupLauncher.js\"></script><div id=\"simulator_frame\"></sim>\n",
    "<script src=\"kernelRestart.js\"></script>"
   ]
  },
  {
   "cell_type": "code",
   "execution_count": null,
   "metadata": {},
   "outputs": [
    {
     "name": "stdout",
     "output_type": "stream",
     "text": [
      "running\n",
      "CONNECTED\n",
      "('172.18.0.1', 60588) connected\n"
     ]
    }
   ],
   "source": [
    "# Project Joy Ride - Parrallel Parking\n",
    "# Ian Whittal February 16th, 2020\n",
    "\n",
    "car_parameters = {\"throttle\": 0, \"steer\": 0, \"brake\": 0}\n",
    "\n",
    "def control(pos_x, pos_y, time, velocity):\n",
    "    \"\"\" Controls the simulated car\"\"\"\n",
    "    global car_parameters\n",
    "    \n",
    "    # Throttle input is 0 to +/- 1 which translates to a max speed of over 4.26 miles per hour\n",
    "    # Steering is initially zero, inputs +/- 25 degrees will chalk wheels left or right\n",
    "    # To park in the centre of the right lane x_pos = 129.12 is our target direction\n",
    "    # and then backs up until its pos_y is less than 32 then comes to a stop by braking\n",
    "    # There is variability in the simulation each time I run, sometimes the car parks slightly on an angle.\n",
    "    \n",
    "    if time < 0.5:\n",
    "        car_parameters['throttle'] = -1\n",
    "    elif pos_y > 35.4:\n",
    "        car_parameters['throttle'] = -1\n",
    "        car_parameters['steer']    = 25\n",
    "    elif pos_y > 32 and pos_x < 129.12:\n",
    "        car_parameters['throttle'] = -1\n",
    "        car_parameters['steer']    = -25  \n",
    "    else:\n",
    "        car_parameters['steer']    = 0\n",
    "        car_parameters['throttle'] = 0\n",
    "        car_parameters['brake'] = 1\n",
    "        \n",
    "    return car_parameters\n",
    "    \n",
    "import src.simulate as sim\n",
    "sim.run(control)"
   ]
  },
  {
   "cell_type": "markdown",
   "metadata": {},
   "source": [
    "# Submitting this Project!\n",
    "Your parallel park function is \"correct\" when:\n",
    "\n",
    "1. Your car doesn't hit any other cars.\n",
    "2. Your car stops completely inside of the right lane.\n",
    "\n",
    "Once you've got it working, it's time to submit. Submit by pressing the `SUBMIT` button at the lower right corner of this page."
   ]
  },
  {
   "cell_type": "code",
   "execution_count": null,
   "metadata": {},
   "outputs": [],
   "source": [
    "# Project Joy Ride - Parrallel Parking\n",
    "# Ian Whittal February 16th, 2020\n",
    "\n",
    "car_parameters = {\"throttle\": 0, \"steer\": 0, \"brake\": 0}\n",
    "\n",
    "def control(pos_x, pos_y, time, velocity):\n",
    "    \"\"\" Controls the simulated car\"\"\"\n",
    "    global car_parameters\n",
    "    \n",
    "    # Throttle input is 0 to +/- 1 which translates to a max speed of over 4.26 miles per hour\n",
    "    # Steering is initially zero, inputs +/- 25 degrees will chalk wheels left or right\n",
    "    # To park in the centre of the right lane x_pos = 129.12 is our target direction\n",
    "    # and then backs up until its pos_y is less than 32 then comes to a stop by braking\n",
    "    # There is variability in the simulation each time I run, sometimes the car parks slightly on an angle.\n",
    "    \n",
    "    if time < 0.5:\n",
    "        car_parameters['throttle'] = -1\n",
    "    elif pos_y > 35.4:\n",
    "        car_parameters['throttle'] = -1\n",
    "        car_parameters['steer']    = 25\n",
    "        \"\"\"y_pos 32 is the midpoin\"\"\"\n",
    "    elif pos_y > 32 and pos_x < 129.12:\n",
    "        car_parameters['throttle'] = -1\n",
    "        car_parameters['steer']    = -25  \n",
    "    else:\n",
    "        car_parameters['steer']    = 0\n",
    "        car_parameters['throttle'] = 0\n",
    "        car_parameters['brake'] = 1\n",
    "        \n",
    "    return car_parameters\n",
    "    \n",
    "import src.simulate as sim\n",
    "sim.run(control)"
   ]
  }
 ],
 "metadata": {
  "kernelspec": {
   "display_name": "Python 3",
   "language": "python",
   "name": "python3"
  },
  "language_info": {
   "codemirror_mode": {
    "name": "ipython",
    "version": 3
   },
   "file_extension": ".py",
   "mimetype": "text/x-python",
   "name": "python",
   "nbconvert_exporter": "python",
   "pygments_lexer": "ipython3",
   "version": "3.6.3"
  }
 },
 "nbformat": 4,
 "nbformat_minor": 2
}
